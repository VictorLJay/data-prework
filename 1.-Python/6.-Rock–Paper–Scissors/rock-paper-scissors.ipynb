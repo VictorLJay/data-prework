{
 "cells": [
  {
   "cell_type": "markdown",
   "metadata": {},
   "source": [
    "<img src=\"https://bit.ly/2VnXWr2\" width=\"100\" align=\"left\">"
   ]
  },
  {
   "cell_type": "markdown",
   "metadata": {},
   "source": [
    "# Rock, Paper & Scissors\n",
    "\n",
    "Let's play the famous game against our computer. You can check the rules [here](https://en.wikipedia.org/wiki/Rock%E2%80%93paper%E2%80%93scissors). \n",
    "\n",
    "## Task\n",
    "Create a program that imitates the playability of the well known game of rock, paper, scissors. Follow the guidelines provided.\n",
    "\n",
    "## Tools\n",
    "1. Loop: **for/while**\n",
    "2. Functions: **input(), print()...**\n",
    "3. Conditional statements: **if, elif, else**\n",
    "4. Definition of functions. Modular programming\n",
    "5. Import modules\n",
    "\n",
    "**To solve this challenge, the use of functions is recommended.**\n",
    "\n",
    "#### 1. Import the choice function of the random module."
   ]
  },
  {
   "cell_type": "code",
   "execution_count": 26,
   "metadata": {},
   "outputs": [],
   "source": [
    "import random\n",
    "import math"
   ]
  },
  {
   "cell_type": "markdown",
   "metadata": {},
   "source": [
    "#### 2. Create a list that includes the 3 possible gesture options of the game: 'rock', 'paper' or 'scissors'. Store the list in a variable called `gestures`."
   ]
  },
  {
   "cell_type": "code",
   "execution_count": 27,
   "metadata": {},
   "outputs": [],
   "source": [
    "gestures = ['rock', 'paper', 'scissors']"
   ]
  },
  {
   "cell_type": "markdown",
   "metadata": {},
   "source": [
    "#### 3. Create a variable called `n_rounds` to store the maximum number of rounds to play in a game. \n",
    "Remember that the number of rounds must be odd: 1, 3, 5, ..."
   ]
  },
  {
   "cell_type": "code",
   "execution_count": 28,
   "metadata": {},
   "outputs": [],
   "source": [
    "n_rounds = 7"
   ]
  },
  {
   "cell_type": "markdown",
   "metadata": {},
   "source": [
    "#### 4. Create a variable called `rounds_to_win` to store the number of rounds that a player must win to win the game.\n",
    "**Hint**: the value stored in `rounds_to_win` depends on the value of `n_rounds`. "
   ]
  },
  {
   "cell_type": "code",
   "execution_count": 29,
   "metadata": {},
   "outputs": [],
   "source": [
    "rounds_to_win = math.ceil(n_rounds/2)"
   ]
  },
  {
   "cell_type": "markdown",
   "metadata": {},
   "source": [
    "#### 5. Create two variables to store the number of rounds that the computer and the player have won. Call these variables `cpu_score` and `player_score`."
   ]
  },
  {
   "cell_type": "code",
   "execution_count": 30,
   "metadata": {},
   "outputs": [],
   "source": [
    "cpu_score = 0\n",
    "player_score = 0"
   ]
  },
  {
   "cell_type": "markdown",
   "metadata": {},
   "source": [
    "#### 6. Define a function that randomly returns one of the 3 gesture options.\n",
    "You will use this function to simulate the gesture choice of the computer. "
   ]
  },
  {
   "cell_type": "code",
   "execution_count": 31,
   "metadata": {},
   "outputs": [],
   "source": [
    "def cpu_choice():\n",
    "    return random.choice(gestures)"
   ]
  },
  {
   "cell_type": "markdown",
   "metadata": {},
   "source": [
    "#### 7. Define a function that asks the player which is the gesture he or she wants to show: 'rock', 'paper' or 'scissors'.\n",
    "The player should only be allowed to choose one of the 3 gesture options. If the player's choice is not rock, paper or scissors, keep asking until it is."
   ]
  },
  {
   "cell_type": "code",
   "execution_count": 32,
   "metadata": {},
   "outputs": [],
   "source": [
    "def player_choice():\n",
    "    print('Choose between', gestures)\n",
    "    choice = input()\n",
    "    if choice == 'rock':\n",
    "        return choice\n",
    "    elif choice == 'paper':\n",
    "        return choice\n",
    "    elif choice == 'scissors':\n",
    "        return choice\n",
    "    else:\n",
    "        return 'Something went wrong. Please, try again.'"
   ]
  },
  {
   "cell_type": "markdown",
   "metadata": {},
   "source": [
    "#### 8. Define a function that checks who won a round. \n",
    "The function should return 0 if there is a tie, 1 if the computer wins and 2 if the player wins."
   ]
  },
  {
   "cell_type": "code",
   "execution_count": 33,
   "metadata": {},
   "outputs": [
    {
     "name": "stdout",
     "output_type": "stream",
     "text": [
      "Choose between ['rock', 'paper', 'scissors']\n",
      "rock\n"
     ]
    }
   ],
   "source": [
    "#0 is Tie, 1 Computer wins, 2 Player wins.\n",
    "x = cpu_choice()\n",
    "y = player_choice()\n",
    "\n",
    "def round_winner(x, y):\n",
    "    if x == y:\n",
    "        return 0\n",
    "    elif x == 'rock' and y == 'paper':\n",
    "        return 2\n",
    "    elif x == 'rock' and y == 'scissors':\n",
    "        return 1\n",
    "    elif x == 'paper' and y == 'scissors':\n",
    "        return 2\n",
    "    elif x == 'paper' and y == 'rock':\n",
    "        return 1\n",
    "    elif x == 'scissors' and y == 'rock':\n",
    "        return 2\n",
    "    elif x == 'scissors' and y == 'paper':\n",
    "        return 1"
   ]
  },
  {
   "cell_type": "markdown",
   "metadata": {},
   "source": [
    "#### 9. Define a function that prints the choice of the computer, the choice of the player and a message that announces who won the current round. \n",
    "You should also use this function to update the variables that count the number of rounds that the computer and the player have won. The score of the winner increases by one point. If there is a tie, the score does not increase."
   ]
  },
  {
   "cell_type": "code",
   "execution_count": 34,
   "metadata": {},
   "outputs": [
    {
     "name": "stdout",
     "output_type": "stream",
     "text": [
      "Choose between ['rock', 'paper', 'scissors']\n",
      "paper\n"
     ]
    }
   ],
   "source": [
    "#0 is Tie, 1 Computer wins, 2 Player wins.\n",
    "x = cpu_choice()\n",
    "y = player_choice()\n",
    "z = round_winner(x, y)\n",
    "\n",
    "def round_choice(z, x, y):\n",
    "    global cpu_score\n",
    "    global player_score\n",
    "    print('Player plays', y, 'Computer plays', x)\n",
    "    if z == 0:\n",
    "        print('Tie')\n",
    "    elif z == 1:\n",
    "        cpu_score += 1\n",
    "        print('Computer wins.')\n",
    "    elif z == 2:\n",
    "        player_score += 1\n",
    "        print('Player wins.')\n",
    "    return print('Current Score (Computer:Player)', cpu_score, ':', player_score)"
   ]
  },
  {
   "cell_type": "markdown",
   "metadata": {},
   "source": [
    "#### 10. Now it's time to code the execution of the game using the functions and variables you defined above. \n",
    "\n",
    "First, create a loop structure that repeats while no player reaches the minimum score necessary to win and the number of rounds is less than the maximum number of rounds to play in a game.  \n",
    "\n",
    "Inside the loop, use the functions and variables above to create the execution of a round: ask for the player's choice, generate the random choice of the computer, show the round results, update the scores, etc. "
   ]
  },
  {
   "cell_type": "code",
   "execution_count": 35,
   "metadata": {},
   "outputs": [
    {
     "name": "stdout",
     "output_type": "stream",
     "text": [
      "Round: 1\n",
      "Choose between ['rock', 'paper', 'scissors']\n",
      "paper\n",
      "Player plays paper Computer plays paper\n",
      "Tie\n",
      "Current Score (Computer:Player) 0 : 0\n",
      "Round: 2\n",
      "Choose between ['rock', 'paper', 'scissors']\n",
      "rock\n",
      "Player plays rock Computer plays paper\n",
      "Computer wins.\n",
      "Current Score (Computer:Player) 1 : 0\n",
      "Round: 3\n",
      "Choose between ['rock', 'paper', 'scissors']\n",
      "scissors\n",
      "Player plays scissors Computer plays rock\n",
      "Computer wins.\n",
      "Current Score (Computer:Player) 2 : 0\n",
      "Round: 4\n",
      "Choose between ['rock', 'paper', 'scissors']\n",
      "paper\n",
      "Player plays paper Computer plays paper\n",
      "Tie\n",
      "Current Score (Computer:Player) 2 : 0\n",
      "Round: 5\n",
      "Choose between ['rock', 'paper', 'scissors']\n",
      "rock\n",
      "Player plays rock Computer plays paper\n",
      "Computer wins.\n",
      "Current Score (Computer:Player) 3 : 0\n",
      "Round: 6\n",
      "Choose between ['rock', 'paper', 'scissors']\n",
      "paper\n",
      "Player plays paper Computer plays rock\n",
      "Player wins.\n",
      "Current Score (Computer:Player) 3 : 1\n",
      "Round: 7\n",
      "Choose between ['rock', 'paper', 'scissors']\n",
      "rock\n",
      "Player plays rock Computer plays paper\n",
      "Computer wins.\n",
      "Current Score (Computer:Player) 4 : 1\n",
      "Computer wins the game. You lose.\n"
     ]
    }
   ],
   "source": [
    "rounds = 0\n",
    "\n",
    "while rounds <= n_rounds:\n",
    "    rounds += 1\n",
    "    print('Round:', rounds)\n",
    "    x = cpu_choice()\n",
    "    y = player_choice()\n",
    "    z = round_winner(x, y)\n",
    "    r = round_choice(z, x, y)\n",
    "    if player_score == rounds_to_win:\n",
    "        print('Player wins the game.')\n",
    "        break\n",
    "    elif cpu_score == rounds_to_win:\n",
    "        print('Computer wins the game. You lose.')\n",
    "        break\n",
    "    elif rounds == n_rounds:\n",
    "        print('Nobody wins.')\n",
    "        break"
   ]
  },
  {
   "cell_type": "markdown",
   "metadata": {},
   "source": [
    "#### 11. Print the winner of the game based on who won more rounds.\n",
    "Remember that the game might be tied. "
   ]
  },
  {
   "cell_type": "code",
   "execution_count": 36,
   "metadata": {},
   "outputs": [
    {
     "name": "stdout",
     "output_type": "stream",
     "text": [
      "I'm sorry, you lose against the computer\n"
     ]
    }
   ],
   "source": [
    "if player_score == rounds_to_win:\n",
    "    print('Congratulations, you win!')\n",
    "elif cpu_score == rounds_to_win:\n",
    "    print('I\\'m sorry, you lose against the computer')\n",
    "else:\n",
    "    print('Game tied. Nobody wins.')"
   ]
  },
  {
   "cell_type": "markdown",
   "metadata": {},
   "source": [
    "# Bonus: Rock, Paper, Scissors, Lizard & Spock\n",
    "![](images/rpsls.jpg)\n",
    "\n",
    "In this challenge, you need to improve the previous game by adding two new options. To know more about the rules of the improved version of rock, paper, scissors, check this [link](http://www.samkass.com/theories/RPSSL.html). \n",
    "\n",
    "In addition, you will also need to improve how the game interacts with the player: the number of rounds to play, which must be an odd number, will be requested to the user until a valid number is entered. Define a new function to make that request.\n",
    "\n",
    "**Hint**: Try to reuse the code that you already coded in the previous challenge. If your code is efficient, this bonus will only consist of simple modifications to the original game."
   ]
  },
  {
   "cell_type": "code",
   "execution_count": 37,
   "metadata": {},
   "outputs": [
    {
     "name": "stdout",
     "output_type": "stream",
     "text": [
      "Choose between ['Rock', 'Paper', 'Scissors', 'Lizard', 'Spock']\n",
      "Rock\n",
      "Choose between ['Rock', 'Paper', 'Scissors', 'Lizard', 'Spock']\n",
      "Paper\n",
      "Round: 1\n",
      "Choose between ['Rock', 'Paper', 'Scissors', 'Lizard', 'Spock']\n",
      "Lizard\n",
      "Player plays Lizard Computer plays Rock\n",
      "Computer wins.\n",
      "Current Score (Computer:Player) 1 : 0\n",
      "Round: 2\n",
      "Choose between ['Rock', 'Paper', 'Scissors', 'Lizard', 'Spock']\n",
      "Scissors\n",
      "Player plays Scissors Computer plays Lizard\n",
      "Player wins.\n",
      "Current Score (Computer:Player) 1 : 1\n",
      "Round: 3\n",
      "Choose between ['Rock', 'Paper', 'Scissors', 'Lizard', 'Spock']\n",
      "Spock\n",
      "Player plays Spock Computer plays Lizard\n",
      "Computer wins.\n",
      "Current Score (Computer:Player) 2 : 1\n",
      "Round: 4\n",
      "Choose between ['Rock', 'Paper', 'Scissors', 'Lizard', 'Spock']\n",
      "Scissors\n",
      "Player plays Scissors Computer plays Lizard\n",
      "Player wins.\n",
      "Current Score (Computer:Player) 2 : 2\n",
      "Round: 5\n",
      "Choose between ['Rock', 'Paper', 'Scissors', 'Lizard', 'Spock']\n",
      "Paper\n",
      "Player plays Paper Computer plays Scissors\n",
      "Computer wins.\n",
      "Current Score (Computer:Player) 3 : 2\n",
      "Round: 6\n",
      "Choose between ['Rock', 'Paper', 'Scissors', 'Lizard', 'Spock']\n",
      "Rock\n",
      "Player plays Rock Computer plays Rock\n",
      "Tie\n",
      "Current Score (Computer:Player) 3 : 2\n",
      "Round: 7\n",
      "Choose between ['Rock', 'Paper', 'Scissors', 'Lizard', 'Spock']\n",
      "Lizard\n",
      "Player plays Lizard Computer plays Scissors\n",
      "Computer wins.\n",
      "Current Score (Computer:Player) 4 : 2\n",
      "Computer wins the game. You lose.\n",
      "I'm sorry, you lose against the computer\n"
     ]
    }
   ],
   "source": [
    "import random\n",
    "import math\n",
    "\n",
    "gestures_v2 = ['Rock', 'Paper', 'Scissors', 'Lizard', 'Spock']\n",
    "\n",
    "n_rounds_v2 = 15\n",
    "rounds_to_win_v2 = math.ceil(n_rounds/2)\n",
    "\n",
    "cpu_score_v2 = 0\n",
    "player_score_v2 = 0\n",
    "\n",
    "def cpu_choice_v2():\n",
    "    return random.choice(gestures_v2)\n",
    "\n",
    "def player_choice_v2():\n",
    "    print('Choose between', gestures_v2)\n",
    "    choice_v2 = input()\n",
    "    if choice_v2 == 'Rock':\n",
    "        return choice_v2\n",
    "    elif choice_v2 == 'Paper':\n",
    "        return choice_v2\n",
    "    elif choice_v2 == 'Scissors':\n",
    "        return choice_v2\n",
    "    elif choice_v2 == 'Lizard':\n",
    "        return choice_v2\n",
    "    elif choice_v2 == 'Spock':\n",
    "        return choice_v2\n",
    "    else:\n",
    "        return 'Something went wrong. Please, try again.'\n",
    "\n",
    "#0 is Tie, 1 is Computer wins, 2 is Human wins.\n",
    "cpu = cpu_choice_v2()\n",
    "human = player_choice_v2()\n",
    "\n",
    "def round_winner_v2(cpu, human):\n",
    "    if cpu == human:\n",
    "        return 0\n",
    "    elif cpu == 'Rock':\n",
    "        if human == 'Scissors':\n",
    "            return 1\n",
    "        elif human == 'Lizard':\n",
    "            return 1\n",
    "        elif human == 'Paper':\n",
    "            return 2\n",
    "        elif human == 'Spock':\n",
    "            return 2\n",
    "    elif cpu == 'Paper':\n",
    "        if human == 'Rock':\n",
    "            return 1\n",
    "        elif human == 'Spock':\n",
    "            return 1\n",
    "        elif human == 'Scissors':\n",
    "            return 2\n",
    "        elif human == 'Lizard':\n",
    "            return 2\n",
    "    elif cpu == 'Spock':\n",
    "        if human == 'Rock':\n",
    "            return 1\n",
    "        elif human == 'Scissors':\n",
    "            return 1\n",
    "        elif human == 'Lizard':\n",
    "            return 2\n",
    "        elif human == 'Paper':\n",
    "            return 2\n",
    "    elif cpu == 'Scissors':\n",
    "        if human == 'Lizard':\n",
    "            return 1\n",
    "        elif human == 'Paper':\n",
    "            return 1\n",
    "        elif human == 'Spock':\n",
    "            return 2\n",
    "        elif human == 'Rock':\n",
    "            return 2\n",
    "    elif cpu == 'Lizard':\n",
    "        if human == 'Paper':\n",
    "            return 1\n",
    "        elif human == 'Spock':\n",
    "            return 1\n",
    "        elif human == 'Scissors':\n",
    "            return 2\n",
    "        elif human == 'Rock':\n",
    "            return 2\n",
    "\n",
    "#0 is Tie, 1 Computer wins, 2 Player wins.\n",
    "cpu = cpu_choice_v2()\n",
    "human = player_choice_v2()\n",
    "winner = round_winner_v2(cpu, human)\n",
    "\n",
    "def round_choice_v2(winner, cpu, human):\n",
    "    global cpu_score_v2\n",
    "    global player_score_v2\n",
    "    print('Player plays', human, 'Computer plays', cpu)\n",
    "    if winner == 0:\n",
    "        print('Tie')\n",
    "    elif winner == 1:\n",
    "        cpu_score_v2 += 1\n",
    "        print('Computer wins.')\n",
    "    elif winner == 2:\n",
    "        player_score_v2 += 1\n",
    "        print('Player wins.')\n",
    "    return print('Current Score (Computer:Player)', cpu_score_v2, ':', player_score_v2)\n",
    "\n",
    "rounds_played = 0\n",
    "\n",
    "while rounds_played <= n_rounds_v2:\n",
    "    rounds_played += 1\n",
    "    print('Round:', rounds_played)\n",
    "    cpu = cpu_choice_v2()\n",
    "    human = player_choice_v2()\n",
    "    winner = round_winner_v2(cpu, human)\n",
    "    rchoice = round_choice_v2(winner, cpu, human)\n",
    "    if player_score_v2 == rounds_to_win_v2:\n",
    "        print('Player wins the game.')\n",
    "        break\n",
    "    elif cpu_score_v2 == rounds_to_win_v2:\n",
    "        print('Computer wins the game. You lose.')\n",
    "        break\n",
    "    elif rounds_played == n_rounds_v2:\n",
    "        print('Nobody wins.')\n",
    "        break\n",
    "\n",
    "if player_score_v2 == rounds_to_win_v2:\n",
    "    print('Congratulations, you win!')\n",
    "elif cpu_score_v2 == rounds_to_win_v2:\n",
    "    print('I\\'m sorry, you lose against the computer')\n",
    "else:\n",
    "    print('Game tied. Nobody wins.')"
   ]
  }
 ],
 "metadata": {
  "kernelspec": {
   "display_name": "Python 3",
   "language": "python",
   "name": "python3"
  },
  "language_info": {
   "codemirror_mode": {
    "name": "ipython",
    "version": 3
   },
   "file_extension": ".py",
   "mimetype": "text/x-python",
   "name": "python",
   "nbconvert_exporter": "python",
   "pygments_lexer": "ipython3",
   "version": "3.8.3"
  }
 },
 "nbformat": 4,
 "nbformat_minor": 2
}
